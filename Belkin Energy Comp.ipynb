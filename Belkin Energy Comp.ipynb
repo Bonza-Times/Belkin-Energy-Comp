{
 "metadata": {
  "name": "Belkin Energy Comp"
 },
 "nbformat": 3,
 "nbformat_minor": 0,
 "worksheets": [
  {
   "cells": [
    {
     "cell_type": "markdown",
     "metadata": {},
     "source": "<h1> Overview </h1>\n<p> Here is a list of tasks which we think are necessary to complete the project. What we're going for is a Nonintrusive Appliance Load Monitoring System (NILM) </p>\n<ol>\n    <li> Units of analysis</li>\n    <li> Dependent variable </li>\n    <li> Descriptive Statistics</li>\n    <li> Literature Review/Theory</li>\n    <li> Hypotheses </li>\n    <li> Inferential Statistics</li>\n</ol>"
    },
    {
     "cell_type": "markdown",
     "metadata": {},
     "source": "<h1> Units of Analysis </h1>"
    },
    {
     "cell_type": "markdown",
     "metadata": {},
     "source": "<p> Applicance/Timestamp </p>"
    },
    {
     "cell_type": "markdown",
     "metadata": {},
     "source": "<H1>Dependent Variable</H1>"
    },
    {
     "cell_type": "markdown",
     "metadata": {},
     "source": "<p> Binary dependent variable: on/off </p>\n<p> Is the appliance on or off? </p>"
    },
    {
     "cell_type": "markdown",
     "metadata": {},
     "source": "<H1> Descriptive Statistics </H1>"
    },
    {
     "cell_type": "markdown",
     "metadata": {},
     "source": "<h2> List of Variables </h2>\n<ul>\n    <li> Buffer.HF </li>\n    <ol> \n        <li>4096xN spectrogram of high frequency noise captured in the home using Belkin hardware. Refer to [4] for background. N = number of FFT vectors, with each being computed every ~1.0667 seconds.</li>\n        <li> Each value returns a complex number. </li>\n    </ol>\n    <li> Buffer.TimeTicksHF </li>\n    <ol>\n        <li> NX1 vector of UNIX timestamps corresponding to the N FFTs of Buffer.HF </li>\n    </ol>\n    <li> Buffer.LF1V</li>\n    <ol>\n        <li> NX6 array of fundamental and first 5 harmonics of 60Hz voltage measurement of Phase-1.</li>\n    </ol>\n    <li>Buffer.LF1I</li>\n    <ol>\n        <li> NX6 array of fundamental and first 5 harmonics of 60Hz current measurement of Phase-1.</li>\n    </ol>\n    <li> Buffer.TimeTicks1</li>\n    <ol> \n        <li> NX1 vector of UNIX timestamps corresponding to Phase-1 current and voltage measurements.</li>\n    </ol>\n    <li> Buffer.LF2V</li>\n    <ol>\n        <li> NX6 array of fundamental and first 5 harmonics of 60Hz voltage measurement of Phase-2.</li>\n    </ol>\n    <li>Buffer.LF2I</li>\n    <ol>\n        <li> NX6 array of fundamental and first 5 harmonics of 60Hz current measurement of Phase-2.</li>\n    </ol>\n    <li> Buffer.Timeticks2</li>\n    <ol>\n        <li>NX1 vector of UNIX timestamps corresponding to Phase-2 current and voltage measurements.</li>\n    </ol>\n    <li> *Buffer.TaggingInfo</li>\n    <ol>\n        <li> *Only present in training data files.</li>\n        <li> NX4 array of labels for training purposes that belong to the loaded file. Same format as AllTaggingInfo.mat file.</li>\n    </ol>\n</ul>"
    },
    {
     "cell_type": "markdown",
     "metadata": {},
     "source": "<H1> Literature Review/Theory </H1>"
    },
    {
     "cell_type": "markdown",
     "metadata": {},
     "source": "<p> We're trying to find a process that we can replicate so we can then extend their analysis. The following list is the path I took to find a process for replication. It's annotated to help get things together </p>\n<ol>\n    <li> http://www.kaggle.com/c/belkin-energy-disaggregation-competition</li>\n    <li>1. Berges, M., Goldman, E., Matthews, H.S., and Soibelman, L. Training Load Monitoring Algorithms on \n       Highly Sub-Metered Home Electricity Consumption Data. Tsinghua Science & Technology 13, \n        Supple, 0 (2008), 406\u2013411.</li>\n    <li> Berges et al., Enhancing Electricity Audits in Residential Buildings with NILM</li>\n    <li> http://www.marioberges.com/blog/2012/05/summary-of-the-2012-nilm-workshop/#more-5096</li>\n    <li> \"Enhancing Electricity Audits in Residential Buildings with Nonintrusive Load Monitoring\" </li>\n    <li> \"05072012_NILMReview_CMU.pdf\" </li>\n    <li> http://redd.csail.mit.edu/kolter-kddsust11.pdf </li>\n    <p> This is a pretty nice point of departure. They do this: \"describe\nthe software and hardware systems we have built for this\ntask, and discuss their strengths and limitations. Finally,\nwe present brief results on the data, and highlight several\ndirections for future algorithmic work\" </p>\n    <p> Here's what I get out of it: </p>\n    <ul>\n        <li> The paper suggests that a recent review of numerous existing techniques for energy disaggregation can be found in Kaggle's suggested reading #9 </li>\n        <li> In this paper they're concerned about Key distinctions characterizing past work in energy disaggregation </li>\n        <li> Use of external features </li>\n        <p> Some use the time of day or just the power signal itself </p>\n        <li> Supervised / Unsupervised Training </li>\n        <p> Most approaches have been supervised </p>\n        <li> Training/Testing generalization </li>\n        <p> generalization across homes and device categories makes disaggregation a much more challenging problem </p>\n        <li> Evaluation metrics </li>\n        <p> There's a few ways to do it. Kaggle is concerned with identifying a device as on/off but this dataset uses something different</p>\n    </ul>\n    <p> Here's a breakdown of their experimental results </p>\n    <ul>\n        <li> They focus on Factorial Hidden Markov Model (FHMM) as a method for disaggregation </li>\n        <li> To build the model from data we use the individual appliance energy sequences, as\ncollected by the individual device monitors, and train HMMs\nusing the standard Baum-Welch (EM) algorithm (thus, the\n            algorithm we are describing falls under the\u201csupervised\u201ddesignation of Section 2). </li>\n        <li> Exact posterior inference in the FHMM model is not tractable so we use a blocked Gibbs sampling scheme: we fix the hidden states of all but one of the chains, resulting in a Gaussian\nposterior over the emissions over the remaining chain; at\nthis point, we can efficiently sample over hidden states for\n            the held-out chain, and repeat the process until the distribution over all hidden states mixes. </li>\n        <p>  (We also anneal the\nsampling procedure by artificially inflating the variance of\nthe observed aggregate outputs during the early iterations\n            of Gibbs sampling.)</p>\n    </ul>\n    <li> http://www.mit.edu/~mattjj/writing.shtml </li>\n    <li> https://github.com/mattjj?tab=repositories </li>"
    },
    {
     "cell_type": "markdown",
     "metadata": {},
     "source": "<h2> A Prototype NILM System </h2>"
    },
    {
     "cell_type": "markdown",
     "metadata": {},
     "source": "<p> And we're starting to roll, here's the parts of a typical <em><strong>Event-Based System</strong></em></p>\n<ol>\n    <li> Data Acquisition </li>\n    <ul> <li>The Kaggle people already did this </li> </ul>\n    <li> Event Detection </li>\n    <ul>\n        <li> Cycle-\u00ad\u2010averaged statistics </li>\n        <ul>\n            <li> Power metrics(P,Q, PF, etc.) </li>\n            <li> Transient Shapes </li>\n        </ul>\n        <li> Sub-cycle statistics </li>\n        <ul>\n            <li> Current and/or Voltage Harmonics </li>\n            <li> High frequency voltage noise </li>\n            <li> V-I Trajectory </li>\n        </ul>\n    </ul>\n    <li> Feature Extraction </li>\n    <li> Classification </li>\n    <li> Energy Computation </li>\n</ol>"
    },
    {
     "cell_type": "code",
     "collapsed": false,
     "input": "",
     "language": "python",
     "metadata": {},
     "outputs": []
    }
   ],
   "metadata": {}
  }
 ]
}