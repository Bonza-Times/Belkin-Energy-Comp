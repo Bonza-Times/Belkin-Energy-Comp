{
 "metadata": {
  "name": "Belkin Energy Comp"
 },
 "nbformat": 3,
 "nbformat_minor": 0,
 "worksheets": [
  {
   "cells": [
    {
     "cell_type": "markdown",
     "metadata": {},
     "source": "<h1> Overview </h1>\n<p> Here is a list of tasks which we think are necessary to complete the project. </p>\n<ol>\n    <li> Units of analysis</li>\n    <li> Dependent variable </li>\n    <li> Descriptive Statistics</li>\n    <li> Literature Review?</li>\n    <li> Theory/Hypothesis </li>\n    <li> Inferential Statistics</li>\n</ol>"
    },
    {
     "cell_type": "markdown",
     "metadata": {},
     "source": "<h1> Units of Analysis </h1>"
    },
    {
     "cell_type": "markdown",
     "metadata": {},
     "source": "<p> Applicance/Timestamp </p>"
    },
    {
     "cell_type": "markdown",
     "metadata": {},
     "source": "<H1>Dependent Variable</H1>"
    },
    {
     "cell_type": "markdown",
     "metadata": {},
     "source": "<p> Binary dependent variable: on/off </p>\n<p> Is the appliance on or off? </p>"
    },
    {
     "cell_type": "code",
     "collapsed": false,
     "input": "",
     "language": "python",
     "metadata": {},
     "outputs": []
    }
   ],
   "metadata": {}
  }
 ]
}